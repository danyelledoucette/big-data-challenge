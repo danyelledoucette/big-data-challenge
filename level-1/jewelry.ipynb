{
  "nbformat": 4,
  "nbformat_minor": 0,
  "metadata": {
    "colab": {
      "name": "Untitled0.ipynb",
      "provenance": []
    },
    "kernelspec": {
      "name": "python3",
      "display_name": "Python 3"
    },
    "language_info": {
      "name": "python"
    }
  },
  "cells": [
    {
      "cell_type": "code",
      "metadata": {
        "id": "FUYhkR4IM71G"
      },
      "source": [
        "import os\n",
        "# Find the latest version of spark 3.0  from http://www-us.apache.org/dist/spark/ and enter as the spark version\n",
        "# For example:\n",
        "# spark_version = 'spark-3.<enter version>'\n",
        "# spark_version = 'spark-3.0.2'\n",
        "spark_version = 'spark-3.1.1'\n",
        "os.environ['SPARK_VERSION']=spark_version\n",
        "\n",
        "# Install Spark and Java\n",
        "!apt-get update\n",
        "!apt-get install openjdk-11-jdk-headless -qq > /dev/null\n",
        "!wget -q http://www-us.apache.org/dist/spark/$SPARK_VERSION/$SPARK_VERSION-bin-hadoop2.7.tgz\n",
        "!tar xf $SPARK_VERSION-bin-hadoop2.7.tgz\n",
        "!pip install -q findspark\n",
        "\n",
        "# Set Environment Variables\n",
        "os.environ[\"JAVA_HOME\"] = \"/usr/lib/jvm/java-11-openjdk-amd64\"\n",
        "os.environ[\"SPARK_HOME\"] = f\"/content/{spark_version}-bin-hadoop2.7\"\n",
        "\n",
        "# Start a SparkSession\n",
        "import findspark\n",
        "findspark.init()"
      ],
      "execution_count": null,
      "outputs": []
    },
    {
      "cell_type": "code",
      "metadata": {
        "id": "9OVxpRnNNC8O"
      },
      "source": [
        "!wget https://jdbc.postgresql.org/download/postgresql-42.2.9.jar"
      ],
      "execution_count": null,
      "outputs": []
    },
    {
      "cell_type": "code",
      "metadata": {
        "id": "WOq9RDzfNEB9"
      },
      "source": [
        "from pyspark.sql import SparkSession\n",
        "spark = SparkSession.builder.appName(\"CloudETL\").config(\"spark.driver.extraClassPath\",\"/content/postgresql-42.2.9.jar\").getOrCreate()"
      ],
      "execution_count": null,
      "outputs": []
    },
    {
      "cell_type": "code",
      "metadata": {
        "id": "v60EinlhNEyl"
      },
      "source": [
        "from pyspark import SparkFiles\n",
        "# Load in employee.csv from S3 into a DataFrame\n",
        "url = \"https://s3-us-west-1.amazonaws.com/big.data.dd/amazon_reviews_us_Jewelry_v1_00.tsv\"\n",
        "spark.sparkContext.addFile(url)\n",
        "\n",
        "df = spark.read.format('csv').option('inferSchema', 'true').option('header', 'true').option('delimiter', '\\t').csv(SparkFiles.get('amazon_reviews_us_Jewelry_v1_00.tsv'))\n",
        "df.show(10)"
      ],
      "execution_count": null,
      "outputs": []
    },
    {
      "cell_type": "code",
      "metadata": {
        "id": "CnWMs89eNFRy"
      },
      "source": [
        "# Count rows\n",
        "df.count()"
      ],
      "execution_count": null,
      "outputs": []
    },
    {
      "cell_type": "code",
      "metadata": {
        "id": "_u4tQuW5NGBY"
      },
      "source": [
        "# Print and examine schema\n",
        "df.printSchema()"
      ],
      "execution_count": null,
      "outputs": []
    },
    {
      "cell_type": "code",
      "metadata": {
        "id": "PL6wSZieRcZo"
      },
      "source": [
        "# Jewelry dataframe\n",
        "df.createOrReplaceTempView('jewelry')"
      ],
      "execution_count": null,
      "outputs": []
    },
    {
      "cell_type": "code",
      "metadata": {
        "id": "MnzaxLHhRc1t"
      },
      "source": [
        "# Reviews dataframe\n",
        "review_id_table = spark.sql(\"\"\"SELECT review_id, customer_id, product_id, product_parent, to_date(review_date) as review_date FROM jewelry\n",
        "\n",
        "\n",
        "\"\"\").show(10)"
      ],
      "execution_count": null,
      "outputs": []
    },
    {
      "cell_type": "code",
      "metadata": {
        "id": "GbFEFYL0nIqJ"
      },
      "source": [
        "# Products dataframe\n",
        "products = spark.sql(\"\"\"SELECT product_id, product_title FROM jewelry\n",
        "\n",
        "\n",
        "\"\"\").drop_duplicates()\n",
        "products.show(10)"
      ],
      "execution_count": null,
      "outputs": []
    },
    {
      "cell_type": "code",
      "metadata": {
        "id": "UXE6yb9hnIgu"
      },
      "source": [
        "# Customers dataframe\n",
        "customers = df.groupby(\"customer_id\").agg({\"customer_id\": \"count\"}).withColumnRenamed(\"count(customer_id)\", \"customer_count\")\n",
        "customers.show(10)"
      ],
      "execution_count": null,
      "outputs": []
    },
    {
      "cell_type": "code",
      "metadata": {
        "id": "VsZgUUqRnIJQ"
      },
      "source": [
        "# Vine dataframe\n",
        "vine_table = spark.sql(\"\"\"SELECT review_id, star_rating, helpful_votes, total_votes, vine FROM jewelry\n",
        "\n",
        "\n",
        "\"\"\").show(10)"
      ],
      "execution_count": null,
      "outputs": []
    },
    {
      "cell_type": "code",
      "metadata": {
        "id": "339amr1Tt5v3"
      },
      "source": [
        "# Configuration for RDS instance"
      ],
      "execution_count": null,
      "outputs": []
    },
    {
      "cell_type": "code",
      "metadata": {
        "id": "0LalZHyOtv1j"
      },
      "source": [
        "mode=\"append\"\n",
        "jdbc_url = \"jdbc:postgresql://<insert endpoint>:5432/my_data_class_db\"\n",
        "config = {\"user\":\"root\",\n",
        "          \"password\": \"<insert password>\",\n",
        "          \"driver\":\"org.postgresql.Driver\"}"
      ],
      "execution_count": null,
      "outputs": []
    },
    {
      "cell_type": "code",
      "metadata": {
        "id": "aluUm_D6tLYO"
      },
      "source": [
        "# Write dataframes to tables"
      ],
      "execution_count": null,
      "outputs": []
    },
    {
      "cell_type": "code",
      "metadata": {
        "id": "HXJCCDYZnH99"
      },
      "source": [
        "review_id_table.write.jdbc(url=jdbc_url, table='review_id_table', mode=mode, properties=config)"
      ],
      "execution_count": null,
      "outputs": []
    },
    {
      "cell_type": "code",
      "metadata": {
        "id": "SThWSbKynHu7"
      },
      "source": [
        "products.write.jdbc(url=jdbc_url, table='products', mode=mode, properties=config)"
      ],
      "execution_count": null,
      "outputs": []
    },
    {
      "cell_type": "code",
      "metadata": {
        "id": "MfCW9BquRdSV"
      },
      "source": [
        "customers.write.jdbc(url=jdbc_url, table='customers', mode=mode, properties=config)"
      ],
      "execution_count": null,
      "outputs": []
    },
    {
      "cell_type": "code",
      "metadata": {
        "id": "JwyReGtiSw1Q"
      },
      "source": [
        "vine_table.write.jdbc(url=jdbc_url, table='vine_table', mode=mode, properties=config)"
      ],
      "execution_count": null,
      "outputs": []
    }
  ]
}